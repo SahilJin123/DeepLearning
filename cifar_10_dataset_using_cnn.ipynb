{
  "nbformat": 4,
  "nbformat_minor": 0,
  "metadata": {
    "colab": {
      "name": "cifar 10 dataset using cnn.ipynb",
      "provenance": [],
      "authorship_tag": "ABX9TyNWb+CaeA09VcdBbO4PASJO",
      "include_colab_link": true
    },
    "kernelspec": {
      "name": "python3",
      "display_name": "Python 3"
    },
    "language_info": {
      "name": "python"
    }
  },
  "cells": [
    {
      "cell_type": "markdown",
      "metadata": {
        "id": "view-in-github",
        "colab_type": "text"
      },
      "source": [
        "<a href=\"https://colab.research.google.com/github/SahilJin123/DeepLearning/blob/main/cifar_10_dataset_using_cnn.ipynb\" target=\"_parent\"><img src=\"https://colab.research.google.com/assets/colab-badge.svg\" alt=\"Open In Colab\"/></a>"
      ]
    },
    {
      "cell_type": "code",
      "execution_count": 1,
      "metadata": {
        "id": "Y2HcpvPOa0bA"
      },
      "outputs": [],
      "source": [
        "import tensorflow as tf\n",
        "from tensorflow.keras import datasets,layers,models\n",
        "import numpy as np\n",
        "import matplotlib.pyplot as plt "
      ]
    },
    {
      "cell_type": "code",
      "source": [
        "(x_train,y_train),(x_test,y_test) = datasets.cifar10.load_data()"
      ],
      "metadata": {
        "id": "X6wNRhxibOqm"
      },
      "execution_count": 39,
      "outputs": []
    },
    {
      "cell_type": "code",
      "source": [
        "print(x_train.shape)\n",
        "print(y_train.shape)\n",
        "print(x_test.shape)\n",
        "print(y_test.shape)"
      ],
      "metadata": {
        "colab": {
          "base_uri": "https://localhost:8080/"
        },
        "id": "VqTOTQAubOnm",
        "outputId": "d524ae86-bfe2-4671-a017-c91e5875e938"
      },
      "execution_count": 19,
      "outputs": [
        {
          "output_type": "stream",
          "name": "stdout",
          "text": [
            "(50000, 32, 32, 3)\n",
            "(50000, 1)\n",
            "(10000, 32, 32, 3)\n",
            "(10000, 1)\n"
          ]
        }
      ]
    },
    {
      "cell_type": "code",
      "source": [
        "y_train[:5]"
      ],
      "metadata": {
        "colab": {
          "base_uri": "https://localhost:8080/"
        },
        "id": "lcuOgRz4e5wR",
        "outputId": "cc5cae2b-5290-43a8-8611-9e52697e3dce"
      },
      "execution_count": 20,
      "outputs": [
        {
          "output_type": "execute_result",
          "data": {
            "text/plain": [
              "array([[6],\n",
              "       [9],\n",
              "       [9],\n",
              "       [4],\n",
              "       [1]], dtype=uint8)"
            ]
          },
          "metadata": {},
          "execution_count": 20
        }
      ]
    },
    {
      "cell_type": "code",
      "source": [
        "#to flatten the array alway's use it like this\n",
        "##Now we have to flatten the array y_train\n",
        "y_train = y_train.reshape(-1,)\n",
        "y_train "
      ],
      "metadata": {
        "colab": {
          "base_uri": "https://localhost:8080/"
        },
        "id": "CM6pCfbTfTFC",
        "outputId": "28a98c56-2d18-48e9-b6c7-f46dcc70bdc2"
      },
      "execution_count": 40,
      "outputs": [
        {
          "output_type": "execute_result",
          "data": {
            "text/plain": [
              "array([6, 9, 9, ..., 9, 1, 1], dtype=uint8)"
            ]
          },
          "metadata": {},
          "execution_count": 40
        }
      ]
    },
    {
      "cell_type": "code",
      "source": [
        "classes =['airplane','automobile','bird','cat','deer','dog','frog','horse','ship','truck']\t\t\t\t"
      ],
      "metadata": {
        "id": "zSRNlU8BdxCf"
      },
      "execution_count": 41,
      "outputs": []
    },
    {
      "cell_type": "code",
      "source": [
        "def plot_sample(x,y,index):\n",
        "  plt.figure(figsize = (15,2))\n",
        "  plt.imshow(x[index])\n",
        "  plt.xlabel(classes[y[index]])"
      ],
      "metadata": {
        "id": "NGVio7W1bOk2"
      },
      "execution_count": 23,
      "outputs": []
    },
    {
      "cell_type": "code",
      "source": [
        "plot_sample(x_train,y_train,1)"
      ],
      "metadata": {
        "colab": {
          "base_uri": "https://localhost:8080/",
          "height": 173
        },
        "id": "UR_tGB67bOiJ",
        "outputId": "10896f93-221b-494f-a698-7ac464c12763"
      },
      "execution_count": 27,
      "outputs": [
        {
          "output_type": "display_data",
          "data": {
            "text/plain": [
              "<Figure size 1080x144 with 1 Axes>"
            ],
            "image/png": "[encoded data removed]"
          },
          "metadata": {
            "needs_background": "light"
          }
        }
      ]
    },
    {
      "cell_type": "code",
      "source": [
        "x_train=x_train/255"
      ],
      "metadata": {
        "id": "6-XiIm4zbOec"
      },
      "execution_count": 42,
      "outputs": []
    },
    {
      "cell_type": "code",
      "source": [
        "x_test=x_test/255"
      ],
      "metadata": {
        "id": "R0SR0X7zbOb8"
      },
      "execution_count": 43,
      "outputs": []
    },
    {
      "cell_type": "code",
      "source": [
        "ann = models.Sequential(\n",
        "    [\n",
        "     layers.Flatten(input_shape = (32,32,3)),\n",
        "     layers.Dense(3000,activation = 'relu'),\n",
        "     layers.Dense(1000,activation = 'relu'),\n",
        "     layers.Dense(10,activation = 'tanh'),\n",
        "    ]\n",
        ")"
      ],
      "metadata": {
        "id": "_K_TEu6kbOY2"
      },
      "execution_count": 33,
      "outputs": []
    },
    {
      "cell_type": "code",
      "source": [
        "ann.compile(\n",
        "     optimizer = 'adam',\n",
        "     loss = 'sparse_categorical_crossentropy',\n",
        "     metrics = ['accuracy'])\n",
        "\n",
        "ann.fit(x_train,y_train,epochs = 5)"
      ],
      "metadata": {
        "colab": {
          "base_uri": "https://localhost:8080/"
        },
        "id": "oHnsJ8psiXh5",
        "outputId": "3690b38b-a83a-4541-805c-ba239bfec656"
      },
      "execution_count": 36,
      "outputs": [
        {
          "output_type": "stream",
          "name": "stdout",
          "text": [
            "Epoch 1/5\n",
            "1563/1563 [==============================] - 133s 85ms/step - loss: 2.3165 - accuracy: 0.1000\n",
            "Epoch 2/5\n",
            "1563/1563 [==============================] - 134s 86ms/step - loss: 2.3026 - accuracy: 0.0999\n",
            "Epoch 3/5\n",
            "1563/1563 [==============================] - 139s 89ms/step - loss: 2.3026 - accuracy: 0.0999\n",
            "Epoch 4/5\n",
            "1563/1563 [==============================] - 150s 96ms/step - loss: 2.3026 - accuracy: 0.0999\n",
            "Epoch 5/5\n",
            "1563/1563 [==============================] - 137s 88ms/step - loss: 2.3026 - accuracy: 0.0999\n"
          ]
        },
        {
          "output_type": "execute_result",
          "data": {
            "text/plain": [
              "<keras.callbacks.History at 0x7f5ea4b8d110>"
            ]
          },
          "metadata": {},
          "execution_count": 36
        }
      ]
    },
    {
      "cell_type": "code",
      "source": [
        "cnn = models.Sequential(\n",
        "    [\n",
        "     #cnn\n",
        "     layers.Conv2D(filters = 32,kernel_size = (3,3),activation = 'relu',input_shape = (32,32,3)),\n",
        "     layers.MaxPooling2D((2,2)),\n",
        "\n",
        "     layers.Conv2D(filters = 64,kernel_size = (3,3),activation = 'relu'),\n",
        "     layers.MaxPooling2D((2,2)),\n",
        "     #dense\n",
        "     layers.Flatten(),\n",
        "     layers.Dense(64,activation = 'relu'),\n",
        "     layers.Dense(10,activation = 'softmax'),\n",
        "    ]\n",
        ")"
      ],
      "metadata": {
        "id": "ia9qtaT_kAYf"
      },
      "execution_count": 38,
      "outputs": []
    },
    {
      "cell_type": "code",
      "source": [
        "cnn.compile(\n",
        "     optimizer = 'adam',\n",
        "     loss = 'sparse_categorical_crossentropy',\n",
        "     metrics = ['accuracy'])\n",
        "\n",
        "cnn.fit(x_train,y_train,epochs = 10)"
      ],
      "metadata": {
        "colab": {
          "base_uri": "https://localhost:8080/"
        },
        "id": "1Xrc-EzskAV0",
        "outputId": "90aa7e89-c595-4430-c4e3-e36d57d90ef6"
      },
      "execution_count": 44,
      "outputs": [
        {
          "output_type": "stream",
          "name": "stdout",
          "text": [
            "Epoch 1/10\n",
            "1563/1563 [==============================] - 70s 45ms/step - loss: 1.4714 - accuracy: 0.4692\n",
            "Epoch 2/10\n",
            "1563/1563 [==============================] - 64s 41ms/step - loss: 1.1290 - accuracy: 0.6063\n",
            "Epoch 3/10\n",
            "1563/1563 [==============================] - 64s 41ms/step - loss: 1.0068 - accuracy: 0.6506\n",
            "Epoch 4/10\n",
            "1563/1563 [==============================] - 72s 46ms/step - loss: 0.9244 - accuracy: 0.6790\n",
            "Epoch 5/10\n",
            "1563/1563 [==============================] - 68s 44ms/step - loss: 0.8621 - accuracy: 0.7007\n",
            "Epoch 6/10\n",
            "1563/1563 [==============================] - 69s 44ms/step - loss: 0.8109 - accuracy: 0.7203\n",
            "Epoch 7/10\n",
            "1563/1563 [==============================] - 66s 42ms/step - loss: 0.7684 - accuracy: 0.7342\n",
            "Epoch 8/10\n",
            "1563/1563 [==============================] - 64s 41ms/step - loss: 0.7301 - accuracy: 0.7478\n",
            "Epoch 9/10\n",
            "1563/1563 [==============================] - 64s 41ms/step - loss: 0.6964 - accuracy: 0.7589\n",
            "Epoch 10/10\n",
            "1563/1563 [==============================] - 66s 42ms/step - loss: 0.6634 - accuracy: 0.7696\n"
          ]
        },
        {
          "output_type": "execute_result",
          "data": {
            "text/plain": [
              "<keras.callbacks.History at 0x7f5ea538d550>"
            ]
          },
          "metadata": {},
          "execution_count": 44
        }
      ]
    },
    {
      "cell_type": "code",
      "source": [
        "y_test = y_test.reshape(-1,)\n",
        "y_test "
      ],
      "metadata": {
        "colab": {
          "base_uri": "https://localhost:8080/"
        },
        "id": "LjussLAtnB0s",
        "outputId": "f168fba8-2796-497c-a53b-52c3c30f4f41"
      },
      "execution_count": 45,
      "outputs": [
        {
          "output_type": "execute_result",
          "data": {
            "text/plain": [
              "array([3, 8, 8, ..., 5, 1, 7], dtype=uint8)"
            ]
          },
          "metadata": {},
          "execution_count": 45
        }
      ]
    },
    {
      "cell_type": "code",
      "source": [
        "cnn.evaluate(x_test,y_test)"
      ],
      "metadata": {
        "colab": {
          "base_uri": "https://localhost:8080/"
        },
        "id": "s_ggc9RmmfsX",
        "outputId": "1acb9340-8b29-4397-face-d2e14fcab948"
      },
      "execution_count": 46,
      "outputs": [
        {
          "output_type": "stream",
          "name": "stdout",
          "text": [
            "313/313 [==============================] - 4s 13ms/step - loss: 0.8976 - accuracy: 0.7049\n"
          ]
        },
        {
          "output_type": "execute_result",
          "data": {
            "text/plain": [
              "[0.8976101279258728, 0.7049000263214111]"
            ]
          },
          "metadata": {},
          "execution_count": 46
        }
      ]
    },
    {
      "cell_type": "code",
      "source": [
        "plot_sample(x_test,y_test,1)"
      ],
      "metadata": {
        "colab": {
          "base_uri": "https://localhost:8080/",
          "height": 173
        },
        "id": "qb_4IfFdmwmn",
        "outputId": "0aa008f9-eae5-4400-e28d-0f29a7015260"
      },
      "execution_count": 47,
      "outputs": [
        {
          "output_type": "display_data",
          "data": {
            "text/plain": [
              "<Figure size 1080x144 with 1 Axes>"
            ],
            "image/png": "[encoded data removed]"
          },
          "metadata": {
            "needs_background": "light"
          }
        }
      ]
    },
    {
      "cell_type": "code",
      "source": [
        "y_predict = cnn.predict(x_test)\n",
        "y_predict[:20]"
      ],
      "metadata": {
        "colab": {
          "base_uri": "https://localhost:8080/"
        },
        "id": "YgVGyL9nnOk_",
        "outputId": "777c15b1-6a88-4c9b-d432-95c2b4260b6b"
      },
      "execution_count": 48,
      "outputs": [
        {
          "output_type": "execute_result",
          "data": {
            "text/plain": [
              "array([[5.31305419e-03, 8.42152622e-06, 1.80569245e-03, 9.09782529e-01,\n",
              "        3.06135975e-04, 7.86056221e-02, 6.96062227e-04, 5.14776220e-05,\n",
              "        3.25287459e-03, 1.78069007e-04],\n",
              "       [1.07099954e-03, 8.37869942e-02, 1.11807685e-05, 6.52107872e-07,\n",
              "        6.63494504e-08, 1.07261542e-08, 5.34176081e-08, 3.84420096e-09,\n",
              "        9.15045083e-01, 8.49967400e-05],\n",
              "       [2.18140736e-01, 3.41931701e-01, 2.56649265e-03, 3.32535543e-02,\n",
              "        3.13679455e-03, 3.26052634e-03, 1.32953434e-03, 1.99092273e-03,\n",
              "        2.95303464e-01, 9.90863293e-02],\n",
              "       [7.61940956e-01, 6.71643717e-03, 5.64432936e-03, 1.62222958e-03,\n",
              "        1.03566307e-03, 1.35862701e-05, 9.83355916e-04, 7.30440206e-06,\n",
              "        2.21468434e-01, 5.67635405e-04],\n",
              "       [2.39187884e-05, 2.03860200e-05, 3.79304364e-02, 4.79520857e-02,\n",
              "        4.59348708e-01, 1.02633880e-02, 4.44152862e-01, 2.30607882e-04,\n",
              "        7.40642718e-05, 3.46807792e-06],\n",
              "       [1.02896115e-03, 1.24185544e-03, 1.55621599e-02, 9.60128233e-02,\n",
              "        7.31695220e-02, 2.85728797e-02, 7.69201398e-01, 1.36278225e-02,\n",
              "        6.68725930e-04, 9.13861732e-04],\n",
              "       [1.09136861e-03, 2.72107422e-01, 4.31300420e-03, 1.82401329e-01,\n",
              "        7.92132196e-05, 5.43769170e-03, 3.22539657e-02, 2.10033424e-04,\n",
              "        3.59381374e-05, 5.02070010e-01],\n",
              "       [8.47077742e-03, 6.77648870e-07, 1.33403048e-01, 2.07418017e-02,\n",
              "        7.66857117e-02, 1.61531847e-03, 7.57596672e-01, 1.40054035e-03,\n",
              "        8.38171982e-05, 1.63650998e-06],\n",
              "       [1.86654758e-02, 8.29570240e-07, 7.17061525e-03, 8.69729757e-01,\n",
              "        2.69003250e-02, 3.97007391e-02, 1.35476729e-02, 2.41765548e-02,\n",
              "        1.00429526e-04, 7.46514252e-06],\n",
              "       [2.65348208e-04, 9.91705060e-01, 1.17982141e-04, 2.13498337e-04,\n",
              "        2.44599578e-05, 4.14954684e-06, 6.58718054e-04, 3.67839152e-06,\n",
              "        4.25998541e-03, 2.74721184e-03],\n",
              "       [8.07287991e-01, 6.20445178e-04, 2.23927908e-02, 5.91064580e-02,\n",
              "        6.73719421e-02, 2.78173760e-02, 1.16033200e-03, 9.20746289e-03,\n",
              "        4.63955756e-03, 3.95601295e-04],\n",
              "       [7.39868119e-05, 7.54613604e-04, 3.92773075e-07, 1.74516958e-06,\n",
              "        3.20455769e-08, 9.68831060e-08, 5.75482382e-08, 7.81350536e-07,\n",
              "        1.05748601e-04, 9.99062598e-01],\n",
              "       [3.35451041e-04, 2.20555357e-05, 2.10715383e-02, 2.07082272e-01,\n",
              "        1.44503005e-02, 7.10011423e-01, 4.71767416e-04, 4.59936373e-02,\n",
              "        5.46450086e-04, 1.50628466e-05],\n",
              "       [3.57052730e-03, 1.00194891e-04, 1.96189922e-03, 2.51309620e-03,\n",
              "        1.38825811e-02, 4.06495035e-02, 2.79081814e-05, 9.37235594e-01,\n",
              "        2.97150905e-06, 5.57819076e-05],\n",
              "       [1.09266592e-04, 1.04647633e-02, 6.77654971e-05, 1.17190666e-05,\n",
              "        8.01132330e-07, 2.58056734e-05, 1.92267198e-05, 3.76942771e-05,\n",
              "        4.94450983e-03, 9.84318435e-01],\n",
              "       [5.00932382e-03, 4.63212084e-04, 6.33885560e-04, 2.55106185e-02,\n",
              "        8.72958626e-04, 2.06050673e-03, 6.63278699e-01, 4.91816263e-06,\n",
              "        3.01978767e-01, 1.87070182e-04],\n",
              "       [1.38756656e-03, 1.61344753e-04, 7.28390738e-03, 1.88910261e-01,\n",
              "        2.53145816e-04, 7.86777914e-01, 2.68881646e-04, 1.40848439e-02,\n",
              "        1.44406746e-04, 7.27799081e-04],\n",
              "       [4.24518995e-02, 2.35650019e-04, 7.73362815e-02, 1.51277557e-01,\n",
              "        6.27411604e-02, 1.50642440e-01, 1.85619050e-03, 4.90270644e-01,\n",
              "        2.21833005e-03, 2.09698640e-02],\n",
              "       [5.44943614e-04, 1.36767235e-02, 1.33946205e-05, 1.27350562e-04,\n",
              "        7.79792026e-05, 6.30361592e-06, 5.33979073e-05, 4.58756318e-07,\n",
              "        9.82761919e-01, 2.73755239e-03],\n",
              "       [5.10602622e-05, 2.23412688e-04, 2.18940992e-03, 1.93049274e-02,\n",
              "        6.45366544e-03, 2.73204781e-03, 9.67950583e-01, 6.54498814e-04,\n",
              "        4.19655320e-04, 2.08302808e-05]], dtype=float32)"
            ]
          },
          "metadata": {},
          "execution_count": 48
        }
      ]
    },
    {
      "cell_type": "code",
      "source": [
        "np.argmax(y_predict[1])"
      ],
      "metadata": {
        "colab": {
          "base_uri": "https://localhost:8080/"
        },
        "id": "8e5QjCw3n1FE",
        "outputId": "c33ce889-b077-4ad9-ddbc-168f47db052d"
      },
      "execution_count": 49,
      "outputs": [
        {
          "output_type": "execute_result",
          "data": {
            "text/plain": [
              "8"
            ]
          },
          "metadata": {},
          "execution_count": 49
        }
      ]
    },
    {
      "cell_type": "code",
      "source": [
        "classes[8]"
      ],
      "metadata": {
        "colab": {
          "base_uri": "https://localhost:8080/",
          "height": 35
        },
        "id": "CPvHthEyp70E",
        "outputId": "3ff0a55e-3aa0-4b62-c7aa-e1a892073089"
      },
      "execution_count": 50,
      "outputs": [
        {
          "output_type": "execute_result",
          "data": {
            "text/plain": [
              "'ship'"
            ],
            "application/vnd.google.colaboratory.intrinsic+json": {
              "type": "string"
            }
          },
          "metadata": {},
          "execution_count": 50
        }
      ]
    }
  ]
}